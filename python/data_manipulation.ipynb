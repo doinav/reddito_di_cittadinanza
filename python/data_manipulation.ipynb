{
  "nbformat": 4,
  "nbformat_minor": 0,
  "metadata": {
    "colab": {
      "provenance": [],
      "authorship_tag": "ABX9TyPmctT69Ez0CnAV5HLikm69",
      "include_colab_link": true
    },
    "kernelspec": {
      "name": "python3",
      "display_name": "Python 3"
    },
    "language_info": {
      "name": "python"
    }
  },
  "cells": [
    {
      "cell_type": "markdown",
      "metadata": {
        "id": "view-in-github",
        "colab_type": "text"
      },
      "source": [
        "<a href=\"https://colab.research.google.com/github/federico-bassi/reddito_di_cittadinanza/blob/main/python/data_manipulation.ipynb\" target=\"_parent\"><img src=\"https://colab.research.google.com/assets/colab-badge.svg\" alt=\"Open In Colab\"/></a>"
      ]
    },
    {
      "cell_type": "markdown",
      "source": [
        "# Labour Economics and Policy Evaluation Project: Reddito di Cittadinanza\n",
        "\n",
        "The following notebook contains the code necessary to manipulate the data for the project and to build the dataset."
      ],
      "metadata": {
        "id": "wROhhTNjk68P"
      }
    },
    {
      "cell_type": "code",
      "execution_count": null,
      "metadata": {
        "id": "3EKyruJAkhrs"
      },
      "outputs": [],
      "source": [
        "import pandas as pd\n",
        "import os\n",
        "import glob"
      ]
    },
    {
      "cell_type": "code",
      "source": [
        "from google.colab import drive\n",
        "drive.mount('/content/drive')"
      ],
      "metadata": {
        "id": "-5yrAYZTlgs4",
        "colab": {
          "base_uri": "https://localhost:8080/"
        },
        "outputId": "446f2cd7-e898-4853-9048-36d1805c5818"
      },
      "execution_count": null,
      "outputs": [
        {
          "output_type": "stream",
          "name": "stdout",
          "text": [
            "Drive already mounted at /content/drive; to attempt to forcibly remount, call drive.mount(\"/content/drive\", force_remount=True).\n"
          ]
        }
      ]
    },
    {
      "cell_type": "code",
      "source": [
        "## choose the unit level among \"regions\" and \"provinces\"\n",
        "granularity = \"regions\""
      ],
      "metadata": {
        "id": "MnVI9YilEJKn"
      },
      "execution_count": null,
      "outputs": []
    },
    {
      "cell_type": "code",
      "source": [
        "path = f\"../content/drive/MyDrive/LEPE_project/data/{granularity}/input_datasets\"\n",
        "files = glob.glob(os.path.join(path, \"*.xlsx\"))"
      ],
      "metadata": {
        "id": "VccczYnMlXFY"
      },
      "execution_count": null,
      "outputs": []
    },
    {
      "cell_type": "code",
      "source": [
        "files"
      ],
      "metadata": {
        "colab": {
          "base_uri": "https://localhost:8080/"
        },
        "id": "a8w82JrWFhDA",
        "outputId": "c86b5cd6-12b0-4572-c855-be4bfa4a1dcd"
      },
      "execution_count": null,
      "outputs": [
        {
          "output_type": "execute_result",
          "data": {
            "text/plain": [
              "['../content/drive/MyDrive/LEPE_project/data/regions/input_datasets/num_recipients.xlsx',\n",
              " '../content/drive/MyDrive/LEPE_project/data/regions/input_datasets/gdp.xlsx',\n",
              " '../content/drive/MyDrive/LEPE_project/data/regions/input_datasets/residents.xlsx',\n",
              " '../content/drive/MyDrive/LEPE_project/data/regions/input_datasets/perc_poor_families.xlsx',\n",
              " '../content/drive/MyDrive/LEPE_project/data/regions/input_datasets/perc_poor_individuals.xlsx',\n",
              " '../content/drive/MyDrive/LEPE_project/data/regions/input_datasets/unemployment.xlsx',\n",
              " '../content/drive/MyDrive/LEPE_project/data/regions/input_datasets/unemployment_no_degree.xlsx',\n",
              " '../content/drive/MyDrive/LEPE_project/data/regions/input_datasets/unemployment_25_34.xlsx',\n",
              " '../content/drive/MyDrive/LEPE_project/data/regions/input_datasets/perc_applicants.xlsx']"
            ]
          },
          "metadata": {},
          "execution_count": 13
        }
      ]
    },
    {
      "cell_type": "code",
      "source": [
        "datasets = {}\n",
        "for file in files:\n",
        "  print(file)\n",
        "  datasets[file.split(f\"/data/{granularity}/input_datasets/\")[1].split(\".xlsx\")[0]] = pd.read_excel(file, sheet_name=\"data\", header=0)"
      ],
      "metadata": {
        "id": "pfOotfMFl4-i",
        "colab": {
          "base_uri": "https://localhost:8080/"
        },
        "outputId": "294a0be9-a7aa-4599-fce5-21356807ffca"
      },
      "execution_count": null,
      "outputs": [
        {
          "output_type": "stream",
          "name": "stdout",
          "text": [
            "../content/drive/MyDrive/LEPE_project/data/regions/input_datasets/num_recipients.xlsx\n",
            "../content/drive/MyDrive/LEPE_project/data/regions/input_datasets/gdp.xlsx\n",
            "../content/drive/MyDrive/LEPE_project/data/regions/input_datasets/residents.xlsx\n",
            "../content/drive/MyDrive/LEPE_project/data/regions/input_datasets/perc_poor_families.xlsx\n",
            "../content/drive/MyDrive/LEPE_project/data/regions/input_datasets/perc_poor_individuals.xlsx\n",
            "../content/drive/MyDrive/LEPE_project/data/regions/input_datasets/unemployment.xlsx\n",
            "../content/drive/MyDrive/LEPE_project/data/regions/input_datasets/unemployment_no_degree.xlsx\n",
            "../content/drive/MyDrive/LEPE_project/data/regions/input_datasets/unemployment_25_34.xlsx\n",
            "../content/drive/MyDrive/LEPE_project/data/regions/input_datasets/perc_applicants.xlsx\n"
          ]
        }
      ]
    },
    {
      "cell_type": "code",
      "source": [
        "unit_list = [u for u in list(datasets.values())[0][\"unit\"]]"
      ],
      "metadata": {
        "id": "r0xTmNKfG29j"
      },
      "execution_count": null,
      "outputs": []
    },
    {
      "cell_type": "code",
      "source": [
        "for key in datasets.keys():\n",
        "  print(\"==================================\")\n",
        "  print(\"Evaluating dataset --> \", key)\n",
        "  df = datasets[key]\n",
        "  for unit in df[\"unit\"]:\n",
        "    if unit not in unit_list:\n",
        "      print(unit)"
      ],
      "metadata": {
        "colab": {
          "base_uri": "https://localhost:8080/"
        },
        "id": "8xspyD-StlnS",
        "outputId": "369f8040-e819-48b5-8f07-0cc49e4996df"
      },
      "execution_count": null,
      "outputs": [
        {
          "output_type": "stream",
          "name": "stdout",
          "text": [
            "==================================\n",
            "Evaluating dataset -->  num_recipients\n",
            "==================================\n",
            "Evaluating dataset -->  gdp\n",
            "==================================\n",
            "Evaluating dataset -->  residents\n",
            "==================================\n",
            "Evaluating dataset -->  perc_poor_families\n",
            "==================================\n",
            "Evaluating dataset -->  perc_poor_individuals\n",
            "==================================\n",
            "Evaluating dataset -->  unemployment\n",
            "==================================\n",
            "Evaluating dataset -->  unemployment_no_degree\n",
            "==================================\n",
            "Evaluating dataset -->  unemployment_25_34\n",
            "==================================\n",
            "Evaluating dataset -->  perc_applicants\n"
          ]
        }
      ]
    },
    {
      "cell_type": "code",
      "source": [
        "def panelize(df, column_name):\n",
        "  panel_df = df.melt(id_vars=[\"unit\"], var_name=\"year\", value_name= column_name)\n",
        "  panel_df[\"year\"] = panel_df[\"year\"].astype(int)\n",
        "  panel_df.set_index([\"unit\", \"year\"], inplace=True)\n",
        "  return panel_df"
      ],
      "metadata": {
        "id": "2rHejHcKjqyW"
      },
      "execution_count": null,
      "outputs": []
    },
    {
      "cell_type": "code",
      "source": [
        "panelized_datasets = {}\n",
        "for key in datasets.keys():\n",
        "  panelized_datasets[key] = panelize(datasets[key], key)"
      ],
      "metadata": {
        "id": "-l4HUHALwqcq"
      },
      "execution_count": null,
      "outputs": []
    },
    {
      "cell_type": "code",
      "source": [
        "panelized_datasets = {key : value for key, value in sorted(panelized_datasets.items(), key= lambda x : len(x[1]), reverse=True)}"
      ],
      "metadata": {
        "id": "Or4VfH_h1aMD"
      },
      "execution_count": null,
      "outputs": []
    },
    {
      "cell_type": "code",
      "source": [
        "dataset = pd.DataFrame()\n",
        "counter = 1\n",
        "for key in panelized_datasets.keys():\n",
        "  df = panelized_datasets[key]\n",
        "  print(key)\n",
        "  if counter == 1:\n",
        "    dataset = df\n",
        "  else:\n",
        "    dataset = dataset.merge(df, how=\"left\", left_on = [\"unit\", \"year\"], right_on = [\"unit\", \"year\"])\n",
        "  counter += 1"
      ],
      "metadata": {
        "id": "r6pfdkGwjO1l",
        "colab": {
          "base_uri": "https://localhost:8080/"
        },
        "outputId": "486f8cbb-0a51-4f9d-f6f0-be6414dc7f65"
      },
      "execution_count": null,
      "outputs": [
        {
          "output_type": "stream",
          "name": "stdout",
          "text": [
            "gdp\n",
            "residents\n",
            "perc_poor_families\n",
            "perc_poor_individuals\n",
            "unemployment\n",
            "unemployment_no_degree\n",
            "unemployment_25_34\n",
            "num_recipients\n",
            "perc_applicants\n"
          ]
        }
      ]
    },
    {
      "cell_type": "code",
      "source": [
        "dataset"
      ],
      "metadata": {
        "id": "RJ2HpVZbz8ym",
        "colab": {
          "base_uri": "https://localhost:8080/",
          "height": 455
        },
        "outputId": "c989f050-161f-4be9-f212-6607f7c11df2"
      },
      "execution_count": null,
      "outputs": [
        {
          "output_type": "execute_result",
          "data": {
            "text/plain": [
              "                                        gdp  residents perc_poor_families  \\\n",
              "unit                         year                                           \n",
              "Piemonte                     2015  127078.3  4403562.0                6.6   \n",
              "Valle d'Aosta/Vallée d'Aoste 2015    4665.2   127972.0                7.2   \n",
              "Lombardia                    2015   47409.3  9954769.0                8.5   \n",
              "Trentino Alto Adige/Südtirol 2015  364242.1  1056182.0                4.6   \n",
              "Veneto                       2015   42009.4  4902694.0                 ..   \n",
              "...                                     ...        ...                ...   \n",
              "Puglia                       2021   71533.8  3933777.0               27.5   \n",
              "Basilicata                   2021   12282.0   545130.0               17.7   \n",
              "Calabria                     2021   30040.5  1860601.0               20.3   \n",
              "Sicilia                      2021   82181.9  4833705.0               18.3   \n",
              "Sardegna                     2021   32140.6  1590044.0               16.1   \n",
              "\n",
              "                                   perc_poor_individuals  unemployment  \\\n",
              "unit                         year                                        \n",
              "Piemonte                     2015                    8.9          10.3   \n",
              "Valle d'Aosta/Vallée d'Aoste 2015                   10.5           8.9   \n",
              "Lombardia                    2015                   12.5           9.2   \n",
              "Trentino Alto Adige/Südtirol 2015                    8.2           7.9   \n",
              "Veneto                       2015                    5.2           5.3   \n",
              "...                                                  ...           ...   \n",
              "Puglia                       2021                   32.2          14.6   \n",
              "Basilicata                   2021                   19.0           8.3   \n",
              "Calabria                     2021                   24.1          18.0   \n",
              "Sicilia                      2021                   22.1          18.7   \n",
              "Sardegna                     2021                   18.1          13.5   \n",
              "\n",
              "                                   unemployment_no_degree  unemployment_25_34  \\\n",
              "unit                         year                                               \n",
              "Piemonte                     2015               15.002963           15.703800   \n",
              "Valle d'Aosta/Vallée d'Aoste 2015               18.390805           11.325942   \n",
              "Lombardia                    2015               13.350785           16.036811   \n",
              "Trentino Alto Adige/Südtirol 2015               10.201484            9.376720   \n",
              "Veneto                       2015                5.628639            6.636754   \n",
              "...                                                   ...                 ...   \n",
              "Puglia                       2021               18.000000           22.692705   \n",
              "Basilicata                   2021                9.900000           14.117152   \n",
              "Calabria                     2021               21.000000           26.673685   \n",
              "Sicilia                      2021               25.200000           29.195416   \n",
              "Sardegna                     2021               16.200000           19.836071   \n",
              "\n",
              "                                   num_recipients  perc_applicants  \n",
              "unit                         year                                   \n",
              "Piemonte                     2015             NaN              NaN  \n",
              "Valle d'Aosta/Vallée d'Aoste 2015             NaN              NaN  \n",
              "Lombardia                    2015             NaN              NaN  \n",
              "Trentino Alto Adige/Südtirol 2015             NaN              NaN  \n",
              "Veneto                       2015             NaN              NaN  \n",
              "...                                           ...              ...  \n",
              "Puglia                       2021        346449.0         8.475324  \n",
              "Basilicata                   2021         27075.0         0.701033  \n",
              "Calabria                     2021        240225.0         5.514995  \n",
              "Sicilia                      2021        703945.0        15.779565  \n",
              "Sardegna                     2021        121797.0         3.368140  \n",
              "\n",
              "[140 rows x 9 columns]"
            ],
            "text/html": [
              "\n",
              "  <div id=\"df-ebe0b550-315a-4375-9f00-12d993aed7a4\">\n",
              "    <div class=\"colab-df-container\">\n",
              "      <div>\n",
              "<style scoped>\n",
              "    .dataframe tbody tr th:only-of-type {\n",
              "        vertical-align: middle;\n",
              "    }\n",
              "\n",
              "    .dataframe tbody tr th {\n",
              "        vertical-align: top;\n",
              "    }\n",
              "\n",
              "    .dataframe thead th {\n",
              "        text-align: right;\n",
              "    }\n",
              "</style>\n",
              "<table border=\"1\" class=\"dataframe\">\n",
              "  <thead>\n",
              "    <tr style=\"text-align: right;\">\n",
              "      <th></th>\n",
              "      <th></th>\n",
              "      <th>gdp</th>\n",
              "      <th>residents</th>\n",
              "      <th>perc_poor_families</th>\n",
              "      <th>perc_poor_individuals</th>\n",
              "      <th>unemployment</th>\n",
              "      <th>unemployment_no_degree</th>\n",
              "      <th>unemployment_25_34</th>\n",
              "      <th>num_recipients</th>\n",
              "      <th>perc_applicants</th>\n",
              "    </tr>\n",
              "    <tr>\n",
              "      <th>unit</th>\n",
              "      <th>year</th>\n",
              "      <th></th>\n",
              "      <th></th>\n",
              "      <th></th>\n",
              "      <th></th>\n",
              "      <th></th>\n",
              "      <th></th>\n",
              "      <th></th>\n",
              "      <th></th>\n",
              "      <th></th>\n",
              "    </tr>\n",
              "  </thead>\n",
              "  <tbody>\n",
              "    <tr>\n",
              "      <th>Piemonte</th>\n",
              "      <th>2015</th>\n",
              "      <td>127078.3</td>\n",
              "      <td>4403562.0</td>\n",
              "      <td>6.6</td>\n",
              "      <td>8.9</td>\n",
              "      <td>10.3</td>\n",
              "      <td>15.002963</td>\n",
              "      <td>15.703800</td>\n",
              "      <td>NaN</td>\n",
              "      <td>NaN</td>\n",
              "    </tr>\n",
              "    <tr>\n",
              "      <th>Valle d'Aosta/Vallée d'Aoste</th>\n",
              "      <th>2015</th>\n",
              "      <td>4665.2</td>\n",
              "      <td>127972.0</td>\n",
              "      <td>7.2</td>\n",
              "      <td>10.5</td>\n",
              "      <td>8.9</td>\n",
              "      <td>18.390805</td>\n",
              "      <td>11.325942</td>\n",
              "      <td>NaN</td>\n",
              "      <td>NaN</td>\n",
              "    </tr>\n",
              "    <tr>\n",
              "      <th>Lombardia</th>\n",
              "      <th>2015</th>\n",
              "      <td>47409.3</td>\n",
              "      <td>9954769.0</td>\n",
              "      <td>8.5</td>\n",
              "      <td>12.5</td>\n",
              "      <td>9.2</td>\n",
              "      <td>13.350785</td>\n",
              "      <td>16.036811</td>\n",
              "      <td>NaN</td>\n",
              "      <td>NaN</td>\n",
              "    </tr>\n",
              "    <tr>\n",
              "      <th>Trentino Alto Adige/Südtirol</th>\n",
              "      <th>2015</th>\n",
              "      <td>364242.1</td>\n",
              "      <td>1056182.0</td>\n",
              "      <td>4.6</td>\n",
              "      <td>8.2</td>\n",
              "      <td>7.9</td>\n",
              "      <td>10.201484</td>\n",
              "      <td>9.376720</td>\n",
              "      <td>NaN</td>\n",
              "      <td>NaN</td>\n",
              "    </tr>\n",
              "    <tr>\n",
              "      <th>Veneto</th>\n",
              "      <th>2015</th>\n",
              "      <td>42009.4</td>\n",
              "      <td>4902694.0</td>\n",
              "      <td>..</td>\n",
              "      <td>5.2</td>\n",
              "      <td>5.3</td>\n",
              "      <td>5.628639</td>\n",
              "      <td>6.636754</td>\n",
              "      <td>NaN</td>\n",
              "      <td>NaN</td>\n",
              "    </tr>\n",
              "    <tr>\n",
              "      <th>...</th>\n",
              "      <th>...</th>\n",
              "      <td>...</td>\n",
              "      <td>...</td>\n",
              "      <td>...</td>\n",
              "      <td>...</td>\n",
              "      <td>...</td>\n",
              "      <td>...</td>\n",
              "      <td>...</td>\n",
              "      <td>...</td>\n",
              "      <td>...</td>\n",
              "    </tr>\n",
              "    <tr>\n",
              "      <th>Puglia</th>\n",
              "      <th>2021</th>\n",
              "      <td>71533.8</td>\n",
              "      <td>3933777.0</td>\n",
              "      <td>27.5</td>\n",
              "      <td>32.2</td>\n",
              "      <td>14.6</td>\n",
              "      <td>18.000000</td>\n",
              "      <td>22.692705</td>\n",
              "      <td>346449.0</td>\n",
              "      <td>8.475324</td>\n",
              "    </tr>\n",
              "    <tr>\n",
              "      <th>Basilicata</th>\n",
              "      <th>2021</th>\n",
              "      <td>12282.0</td>\n",
              "      <td>545130.0</td>\n",
              "      <td>17.7</td>\n",
              "      <td>19.0</td>\n",
              "      <td>8.3</td>\n",
              "      <td>9.900000</td>\n",
              "      <td>14.117152</td>\n",
              "      <td>27075.0</td>\n",
              "      <td>0.701033</td>\n",
              "    </tr>\n",
              "    <tr>\n",
              "      <th>Calabria</th>\n",
              "      <th>2021</th>\n",
              "      <td>30040.5</td>\n",
              "      <td>1860601.0</td>\n",
              "      <td>20.3</td>\n",
              "      <td>24.1</td>\n",
              "      <td>18.0</td>\n",
              "      <td>21.000000</td>\n",
              "      <td>26.673685</td>\n",
              "      <td>240225.0</td>\n",
              "      <td>5.514995</td>\n",
              "    </tr>\n",
              "    <tr>\n",
              "      <th>Sicilia</th>\n",
              "      <th>2021</th>\n",
              "      <td>82181.9</td>\n",
              "      <td>4833705.0</td>\n",
              "      <td>18.3</td>\n",
              "      <td>22.1</td>\n",
              "      <td>18.7</td>\n",
              "      <td>25.200000</td>\n",
              "      <td>29.195416</td>\n",
              "      <td>703945.0</td>\n",
              "      <td>15.779565</td>\n",
              "    </tr>\n",
              "    <tr>\n",
              "      <th>Sardegna</th>\n",
              "      <th>2021</th>\n",
              "      <td>32140.6</td>\n",
              "      <td>1590044.0</td>\n",
              "      <td>16.1</td>\n",
              "      <td>18.1</td>\n",
              "      <td>13.5</td>\n",
              "      <td>16.200000</td>\n",
              "      <td>19.836071</td>\n",
              "      <td>121797.0</td>\n",
              "      <td>3.368140</td>\n",
              "    </tr>\n",
              "  </tbody>\n",
              "</table>\n",
              "<p>140 rows × 9 columns</p>\n",
              "</div>\n",
              "      <button class=\"colab-df-convert\" onclick=\"convertToInteractive('df-ebe0b550-315a-4375-9f00-12d993aed7a4')\"\n",
              "              title=\"Convert this dataframe to an interactive table.\"\n",
              "              style=\"display:none;\">\n",
              "        \n",
              "  <svg xmlns=\"http://www.w3.org/2000/svg\" height=\"24px\"viewBox=\"0 0 24 24\"\n",
              "       width=\"24px\">\n",
              "    <path d=\"M0 0h24v24H0V0z\" fill=\"none\"/>\n",
              "    <path d=\"M18.56 5.44l.94 2.06.94-2.06 2.06-.94-2.06-.94-.94-2.06-.94 2.06-2.06.94zm-11 1L8.5 8.5l.94-2.06 2.06-.94-2.06-.94L8.5 2.5l-.94 2.06-2.06.94zm10 10l.94 2.06.94-2.06 2.06-.94-2.06-.94-.94-2.06-.94 2.06-2.06.94z\"/><path d=\"M17.41 7.96l-1.37-1.37c-.4-.4-.92-.59-1.43-.59-.52 0-1.04.2-1.43.59L10.3 9.45l-7.72 7.72c-.78.78-.78 2.05 0 2.83L4 21.41c.39.39.9.59 1.41.59.51 0 1.02-.2 1.41-.59l7.78-7.78 2.81-2.81c.8-.78.8-2.07 0-2.86zM5.41 20L4 18.59l7.72-7.72 1.47 1.35L5.41 20z\"/>\n",
              "  </svg>\n",
              "      </button>\n",
              "      \n",
              "  <style>\n",
              "    .colab-df-container {\n",
              "      display:flex;\n",
              "      flex-wrap:wrap;\n",
              "      gap: 12px;\n",
              "    }\n",
              "\n",
              "    .colab-df-convert {\n",
              "      background-color: #E8F0FE;\n",
              "      border: none;\n",
              "      border-radius: 50%;\n",
              "      cursor: pointer;\n",
              "      display: none;\n",
              "      fill: #1967D2;\n",
              "      height: 32px;\n",
              "      padding: 0 0 0 0;\n",
              "      width: 32px;\n",
              "    }\n",
              "\n",
              "    .colab-df-convert:hover {\n",
              "      background-color: #E2EBFA;\n",
              "      box-shadow: 0px 1px 2px rgba(60, 64, 67, 0.3), 0px 1px 3px 1px rgba(60, 64, 67, 0.15);\n",
              "      fill: #174EA6;\n",
              "    }\n",
              "\n",
              "    [theme=dark] .colab-df-convert {\n",
              "      background-color: #3B4455;\n",
              "      fill: #D2E3FC;\n",
              "    }\n",
              "\n",
              "    [theme=dark] .colab-df-convert:hover {\n",
              "      background-color: #434B5C;\n",
              "      box-shadow: 0px 1px 3px 1px rgba(0, 0, 0, 0.15);\n",
              "      filter: drop-shadow(0px 1px 2px rgba(0, 0, 0, 0.3));\n",
              "      fill: #FFFFFF;\n",
              "    }\n",
              "  </style>\n",
              "\n",
              "      <script>\n",
              "        const buttonEl =\n",
              "          document.querySelector('#df-ebe0b550-315a-4375-9f00-12d993aed7a4 button.colab-df-convert');\n",
              "        buttonEl.style.display =\n",
              "          google.colab.kernel.accessAllowed ? 'block' : 'none';\n",
              "\n",
              "        async function convertToInteractive(key) {\n",
              "          const element = document.querySelector('#df-ebe0b550-315a-4375-9f00-12d993aed7a4');\n",
              "          const dataTable =\n",
              "            await google.colab.kernel.invokeFunction('convertToInteractive',\n",
              "                                                     [key], {});\n",
              "          if (!dataTable) return;\n",
              "\n",
              "          const docLinkHtml = 'Like what you see? Visit the ' +\n",
              "            '<a target=\"_blank\" href=https://colab.research.google.com/notebooks/data_table.ipynb>data table notebook</a>'\n",
              "            + ' to learn more about interactive tables.';\n",
              "          element.innerHTML = '';\n",
              "          dataTable['output_type'] = 'display_data';\n",
              "          await google.colab.output.renderOutput(dataTable, element);\n",
              "          const docLink = document.createElement('div');\n",
              "          docLink.innerHTML = docLinkHtml;\n",
              "          element.appendChild(docLink);\n",
              "        }\n",
              "      </script>\n",
              "    </div>\n",
              "  </div>\n",
              "  "
            ]
          },
          "metadata": {},
          "execution_count": 21
        }
      ]
    },
    {
      "cell_type": "code",
      "source": [
        "dataset.to_excel(f\"../content/drive/MyDrive/LEPE_project/data/dataset_{granularity}.xlsx\")"
      ],
      "metadata": {
        "id": "jViNwVyhkQhT"
      },
      "execution_count": null,
      "outputs": []
    }
  ]
}